{
 "cells": [
  {
   "cell_type": "code",
   "execution_count": 1,
   "metadata": {
    "collapsed": true
   },
   "outputs": [],
   "source": [
    "import numpy as np\n",
    "import pandas as pd\n",
    "import matplotlib.pyplot as plt\n",
    "\n",
    "%matplotlib inline"
   ]
  },
  {
   "cell_type": "code",
   "execution_count": 2,
   "metadata": {
    "collapsed": true
   },
   "outputs": [],
   "source": [
    "INPUT_PATH = '../input/'\n",
    "CACHE_PATH = '../cache/'\n",
    "OUTPUT_PATH ='../output/'"
   ]
  },
  {
   "cell_type": "code",
   "execution_count": 3,
   "metadata": {
    "collapsed": true
   },
   "outputs": [],
   "source": [
    "# df_lstm = pd.read_csv(OUTPUT_PATH + 'lstm.csv',header=None,names=['Id','Score'])\n",
    "df_attention = pd.read_csv(OUTPUT_PATH + 'attention_0.53452.csv',header=None,names=['Id','Score'])\n",
    "df_gru = pd.read_csv(OUTPUT_PATH + 'gru.csv',header=None,names=['Id','Score'])\n",
    "df_lstm = pd.read_csv(OUTPUT_PATH + 'lstm_4.7.csv',header=None,names=['Id','Score'])"
   ]
  },
  {
   "cell_type": "code",
   "execution_count": 4,
   "metadata": {
    "collapsed": true
   },
   "outputs": [],
   "source": [
    "sub = (df_attention[\"Score\"]+df_gru[\"Score\"]+df_lstm[\"Score\"])/3"
   ]
  },
  {
   "cell_type": "code",
   "execution_count": 5,
   "metadata": {
    "collapsed": true
   },
   "outputs": [],
   "source": [
    "sub[sub>4.7] = 5"
   ]
  },
  {
   "cell_type": "code",
   "execution_count": 6,
   "metadata": {
    "collapsed": true
   },
   "outputs": [],
   "source": [
    "result = pd.DataFrame()"
   ]
  },
  {
   "cell_type": "code",
   "execution_count": 7,
   "metadata": {
    "collapsed": true
   },
   "outputs": [],
   "source": [
    "result[\"Id\"] = df_attention[\"Id\"].copy()"
   ]
  },
  {
   "cell_type": "code",
   "execution_count": 8,
   "metadata": {
    "collapsed": true
   },
   "outputs": [],
   "source": [
    "result[\"Score\"] = pd.DataFrame(sub)"
   ]
  },
  {
   "cell_type": "code",
   "execution_count": 9,
   "metadata": {
    "collapsed": true
   },
   "outputs": [],
   "source": [
    "result.to_csv(OUTPUT_PATH + 'sub.csv',header=False,index=False)"
   ]
  },
  {
   "cell_type": "code",
   "execution_count": null,
   "metadata": {
    "collapsed": true
   },
   "outputs": [],
   "source": []
  },
  {
   "cell_type": "code",
   "execution_count": 8,
   "metadata": {
    "collapsed": true
   },
   "outputs": [],
   "source": [
    "df_lstm2 = df_lstm.copy()\n",
    "df_lstm2.loc[df_lstm2['Score'] > 4.8,'Score'] = 5\n",
    "df_lstm2.to_csv(OUTPUT_PATH + 'lstm2.csv',header=False,index=False)"
   ]
  },
  {
   "cell_type": "code",
   "execution_count": 9,
   "metadata": {
    "collapsed": true
   },
   "outputs": [],
   "source": [
    "df_attention2 = df_attention.copy()\n",
    "df_attention2.loc[df_attention2['Score'] > 4.8,'Score'] = 5\n",
    "df_attention2.to_csv(OUTPUT_PATH + 'attention2.csv',header=False,index=False)"
   ]
  },
  {
   "cell_type": "code",
   "execution_count": 8,
   "metadata": {
    "collapsed": true
   },
   "outputs": [],
   "source": [
    "df_gru2 = df_gru.copy()\n",
    "df_gru2.loc[df_gru2['Score'] > 4.8,'Score'] = 5\n",
    "df_gru2.to_csv(OUTPUT_PATH + 'gru2.csv',header=False,index=False)"
   ]
  },
  {
   "cell_type": "code",
   "execution_count": 24,
   "metadata": {
    "collapsed": true
   },
   "outputs": [],
   "source": [
    "def round_score(score):\n",
    "    if 4.7 < score < 5:\n",
    "        return 5\n",
    "    if 3.8 < score < 4:\n",
    "        return 4\n",
    "    return score"
   ]
  },
  {
   "cell_type": "code",
   "execution_count": 7,
   "metadata": {
    "collapsed": true
   },
   "outputs": [],
   "source": [
    "df_blend = df_lstm.copy()\n",
    "df_blend['Score'] = (0.5 * df_lstm['Score'] + 0.5 * df_attention['Score'])\n",
    "df_blend.loc[df_blend['Score']>4.7,'Score'] = 5\n",
    "#df_blend.loc[(df_blend['Score']>3.8) & (df_blend['Score']<4),'Score'] = 4\n",
    "df_blend.to_csv(OUTPUT_PATH + 'blend.csv',header=False,index=False)"
   ]
  },
  {
   "cell_type": "code",
   "execution_count": null,
   "metadata": {
    "collapsed": true
   },
   "outputs": [],
   "source": [
    "df_blend['Score'] = df_blend"
   ]
  },
  {
   "cell_type": "code",
   "execution_count": 18,
   "metadata": {
    "collapsed": true
   },
   "outputs": [],
   "source": [
    "df_blend['Score'] = df_blend['Score'].map(round_score)"
   ]
  },
  {
   "cell_type": "code",
   "execution_count": 19,
   "metadata": {},
   "outputs": [
    {
     "data": {
      "text/plain": [
       "<matplotlib.axes._subplots.AxesSubplot at 0x7f37ebc81d30>"
      ]
     },
     "execution_count": 19,
     "metadata": {},
     "output_type": "execute_result"
    },
    {
     "data": {
      "image/png": "[encoded data removed]",
      "text/plain": [
       "<matplotlib.figure.Figure at 0x7f37ebcf1438>"
      ]
     },
     "metadata": {},
     "output_type": "display_data"
    }
   ],
   "source": [
    "df_blend['Score'].hist(bins=100)"
   ]
  },
  {
   "cell_type": "code",
   "execution_count": 20,
   "metadata": {
    "collapsed": true
   },
   "outputs": [],
   "source": [
    "df_blend.to_csv(OUTPUT_PATH + 'blend.csv',header=False,index=False)"
   ]
  },
  {
   "cell_type": "code",
   "execution_count": null,
   "metadata": {
    "collapsed": true
   },
   "outputs": [],
   "source": []
  }
 ],
 "metadata": {
  "kernelspec": {
   "display_name": "Python 3",
   "language": "python",
   "name": "python3"
  },
  "language_info": {
   "codemirror_mode": {
    "name": "ipython",
    "version": 3
   },
   "file_extension": ".py",
   "mimetype": "text/x-python",
   "name": "python",
   "nbconvert_exporter": "python",
   "pygments_lexer": "ipython3",
   "version": "3.6.3"
  }
 },
 "nbformat": 4,
 "nbformat_minor": 2
}
